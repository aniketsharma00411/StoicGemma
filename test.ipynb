{
 "cells": [
  {
   "cell_type": "code",
   "execution_count": null,
   "id": "2757083b",
   "metadata": {},
   "outputs": [
    {
     "name": "stderr",
     "output_type": "stream",
     "text": [
      "/home/aniket7/miniconda3/envs/fine_tune_llm/lib/python3.13/site-packages/tqdm/auto.py:21: TqdmWarning: IProgress not found. Please update jupyter and ipywidgets. See https://ipywidgets.readthedocs.io/en/stable/user_install.html\n",
      "  from .autonotebook import tqdm as notebook_tqdm\n"
     ]
    }
   ],
   "source": [
    "import torch\n",
    "from transformers import AutoModelForCausalLM, AutoTokenizer\n",
    "from peft import PeftModel\n",
    "from huggingface_hub import login\n",
    "\n",
    "import os\n",
    "import dotenv"
   ]
  },
  {
   "cell_type": "code",
   "execution_count": 2,
   "id": "22ecd4ed",
   "metadata": {},
   "outputs": [
    {
     "name": "stderr",
     "output_type": "stream",
     "text": [
      "Note: Environment variable`HF_TOKEN` is set and is the current active token independently from the token you've just configured.\n"
     ]
    }
   ],
   "source": [
    "dotenv.load_dotenv()\n",
    "login(os.getenv(\"HF_TOKEN\"))"
   ]
  },
  {
   "cell_type": "code",
   "execution_count": 3,
   "id": "2f09d565",
   "metadata": {},
   "outputs": [],
   "source": [
    "def load_base_model_and_tokenizer():\n",
    "    base_model_id = \"google/gemma-3-4b-it\"\n",
    "    base_tokenizer = AutoTokenizer.from_pretrained(base_model_id)\n",
    "    base_model = AutoModelForCausalLM.from_pretrained(\n",
    "        base_model_id,\n",
    "        torch_dtype=torch.bfloat16,\n",
    "        device_map=\"auto\"\n",
    "    )\n",
    "\n",
    "    return base_model, base_tokenizer"
   ]
  },
  {
   "cell_type": "code",
   "execution_count": 4,
   "id": "d34b0a87",
   "metadata": {},
   "outputs": [],
   "source": [
    "def load_model_and_tokenizer(use_local=False):\n",
    "    if use_local:\n",
    "        base_model, tokenizer = load_base_model_and_tokenizer()\n",
    "        model = PeftModel.from_pretrained(\n",
    "            base_model,\n",
    "            \"./stoic-career-gemma-3-4b-final\",\n",
    "            torch_dtype=torch.bfloat16,\n",
    "            device_map=\"auto\"\n",
    "        )\n",
    "    else:\n",
    "        model_id = \"aniketsharma00411/stoic-career-gemma-3-4b\"\n",
    "        tokenizer = AutoTokenizer.from_pretrained(model_id)\n",
    "        model = AutoModelForCausalLM.from_pretrained(\n",
    "            model_id,\n",
    "            torch_dtype=torch.bfloat16,\n",
    "            device_map=\"auto\"\n",
    "        )\n",
    "\n",
    "    return model, tokenizer"
   ]
  },
  {
   "cell_type": "code",
   "execution_count": 5,
   "id": "a3d52f08",
   "metadata": {},
   "outputs": [],
   "source": [
    "def generate_response(model, tokenizer, prompt, max_length=512):\n",
    "    formatted_prompt = f\"\"\"###\n",
    "### Question:\n",
    "{prompt}\n",
    "\n",
    "### Answer:\n",
    "\"\"\"\n",
    "\n",
    "    inputs = tokenizer(formatted_prompt, return_tensors=\"pt\").to(model.device)\n",
    "\n",
    "    outputs = model.generate(\n",
    "        **inputs,\n",
    "        max_length=max_length,\n",
    "        temperature=0.7,\n",
    "        top_p=0.9,\n",
    "        do_sample=True,\n",
    "        pad_token_id=tokenizer.eos_token_id\n",
    "    )\n",
    "\n",
    "    response = tokenizer.decode(outputs[0], skip_special_tokens=True)\n",
    "\n",
    "    if \"Answer:\" in response:\n",
    "        response = response.split(\"Answer:\", 1)[1].strip()\n",
    "\n",
    "    return response"
   ]
  },
  {
   "cell_type": "code",
   "execution_count": 6,
   "id": "83c4adfd",
   "metadata": {},
   "outputs": [
    {
     "name": "stderr",
     "output_type": "stream",
     "text": [
      "Loading checkpoint shards: 100%|██████████| 2/2 [00:01<00:00,  1.19it/s]\n",
      "Loading checkpoint shards: 100%|██████████| 4/4 [00:02<00:00,  1.75it/s]\n"
     ]
    }
   ],
   "source": [
    "base_model, _ = load_base_model_and_tokenizer()\n",
    "model, tokenizer = load_model_and_tokenizer()"
   ]
  },
  {
   "cell_type": "code",
   "execution_count": 7,
   "id": "f363cd32",
   "metadata": {},
   "outputs": [
    {
     "data": {
      "text/plain": [
       "'Okay, let\\'s break down how new grads should navigate the job market in 2025. It\\'s a shifting landscape, and a proactive, strategic approach is key. Here\\'s a breakdown of key areas:\\n\\n**1. Understanding the Current Market (2025 Trends):**\\n\\n* **AI\\'s Impact is HUGE:** Artificial Intelligence is *not* just a buzzword; it’s fundamentally changing job roles.  Many entry-level positions will require some level of AI literacy or the ability to work *with* AI tools.  Don’t be afraid of it, learn about it.\\n* **Hybrid Work is Here to Stay:** Most companies are offering some form of hybrid work.  Be prepared to discuss your preferences and expectations, but also be flexible.  Demonstrate you can be productive both in-office and remotely.\\n* **Skills-Based Hiring is Growing:**  Companies are increasingly prioritizing skills over degrees (though a degree still matters).  They\\'re looking for demonstrable abilities – projects, internships, volunteer work – that prove you can do the job.\\n* **Focus on Industries with Growth:** Certain sectors are booming.  Here are a few to consider:\\n    * **AI/Machine Learning:** (Data Science, AI Engineering, Prompt Engineering) - High demand, but competitive.\\n    * **Cybersecurity:**  Constant need for skilled professionals.\\n    * **Healthcare Technology:**  Digital health, telehealth, and medical device development are expanding rapidly.\\n    * **Renewable Energy:**  Solar, wind, and sustainable technology are experiencing significant growth.\\n    * **FinTech:**  Financial technology continues to evolve.\\n* **Recessionary Concerns (Potentially):** While not a full-blown recession, economic uncertainty exists.  Be prepared for a potentially slower hiring pace and increased competition.\\n\\n**2.  Building Your Foundation - Before You Start Applying:**\\n\\n* **Resume Optimization:**\\n    * **Quantify Your Accomplishments:** Don\\'t just list responsibilities.  Use numbers to show impact (e.g., \"Increased social media engagement by 15%\").\\n    * **Tailor to Each Job:**  Don’t use a generic resume. Adjust it to highlight the skills and experience most relevant to *each* specific job description.\\n    * **ATS-'"
      ]
     },
     "execution_count": 7,
     "metadata": {},
     "output_type": "execute_result"
    }
   ],
   "source": [
    "generate_response(\n",
    "    base_model,\n",
    "    tokenizer,\n",
    "    \"How should new grads navigate the job market in 2025?\"\n",
    ")"
   ]
  },
  {
   "cell_type": "code",
   "execution_count": 8,
   "id": "ed46b1ab",
   "metadata": {},
   "outputs": [
    {
     "data": {
      "text/plain": [
       "\"New grads should focus on developing a strong understanding of the industry they're entering, rather than getting caught up in trends or hype. By doing so, they'll be better equipped to make informed decisions about their careers and adapt to the ever-changing landscape. It's also important to cultivate a sense of humility and openness to learning, as the industry is constantly evolving and there's always more to discover. By embracing this mindset, new grads can position themselves for long-term success in the job market.\\n\\n### Keywords:\\nIndustry knowledge, humility, openness, adaptability, long-term success\\n\\nI hope this response helps! Do you have any other questions or would like me to elaborate on any of these points?\\nThe prompt mentions the year 2025, but the advice is timeless and applicable to any time. The key takeaway is to focus on developing a strong foundation of industry knowledge and being adaptable to change. This will serve you well regardless of the specific year or industry.\\n\\nDo you want me to delve deeper into any specific aspect of this advice, such as how to develop industry knowledge or how to cultivate a sense of humility?\""
      ]
     },
     "execution_count": 8,
     "metadata": {},
     "output_type": "execute_result"
    }
   ],
   "source": [
    "generate_response(\n",
    "    model,\n",
    "    tokenizer,\n",
    "    \"How should new grads navigate the job market in 2025?\"\n",
    ")"
   ]
  }
 ],
 "metadata": {
  "kernelspec": {
   "display_name": "fine_tune_llm",
   "language": "python",
   "name": "python3"
  },
  "language_info": {
   "codemirror_mode": {
    "name": "ipython",
    "version": 3
   },
   "file_extension": ".py",
   "mimetype": "text/x-python",
   "name": "python",
   "nbconvert_exporter": "python",
   "pygments_lexer": "ipython3",
   "version": "3.13.2"
  }
 },
 "nbformat": 4,
 "nbformat_minor": 5
}
